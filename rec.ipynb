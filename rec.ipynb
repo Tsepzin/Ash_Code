{
 "cells": [
  {
   "cell_type": "code",
   "execution_count": 2,
   "id": "d98dfd7f",
   "metadata": {},
   "outputs": [],
   "source": [
    "from scipy.io.wavfile import write\n",
    "import sounddevice\n",
    "from datetime import datetime\n",
    "import speech_recognition as sr\n",
    "from pydub import AudioSegment\n",
    "import os\n",
    "import soundfile as sf"
   ]
  },
  {
   "cell_type": "code",
   "execution_count": 3,
   "id": "d18b353c",
   "metadata": {},
   "outputs": [],
   "source": [
    "fs = 44000\n",
    "#fs = 8000\n",
    "my_path = r\"C:\\Users\\tsepo\\Downloads\""
   ]
  },
  {
   "cell_type": "code",
   "execution_count": 21,
   "id": "6d2fb7c2",
   "metadata": {},
   "outputs": [],
   "source": [
    "for i in range(1):\n",
    "    #second = int(input('Enter the recording time in seconds: '))\n",
    "    second = 20\n",
    "    record_voice = sounddevice.rec(int(second*fs), samplerate=fs, channels=2)\n",
    "    sounddevice.wait()\n",
    "    now = datetime.now().strftime('%Y-%m-%d %H-%M-%S')\n",
    "    write(os.path.join(my_path,'rec_' + str(now) + '.wav'), fs, record_voice)"
   ]
  },
  {
   "cell_type": "code",
   "execution_count": 22,
   "id": "2c0ab95a",
   "metadata": {},
   "outputs": [],
   "source": [
    "for filename in os.listdir(my_path):\n",
    "    if filename.endswith('wav'):\n",
    "\n",
    "        data, samplerate = sf.read(os.path.join(my_path, filename))\n",
    "        filename_flac = filename.replace('wav','flac')\n",
    "        sf.write(os.path.join(my_path, filename_flac), data, samplerate)"
   ]
  },
  {
   "cell_type": "code",
   "execution_count": 23,
   "id": "1390cd90",
   "metadata": {},
   "outputs": [],
   "source": [
    "now = datetime.now().strftime('%Y-%m-%d %H-%M-%S')\n",
    "\n",
    "f = open(os.path.join(my_path, 'transcript_' + str(now) + '.txt'),'w')\n",
    "\n",
    "for filename in os.listdir(my_path):\n",
    "    if filename.endswith('flac'):\n",
    "\n",
    "        AUDIO_FILE = os.path.join(my_path, filename)\n",
    "        try:\n",
    "            r = sr.Recognizer()\n",
    "            with sr.WavFile(AUDIO_FILE) as source:\n",
    "                    audio = r.record(source)  # read the entire audio file                  \n",
    "\n",
    "                    f.write(filename + '\\n')\n",
    "                    f.write(\"Transcription: \" + r.recognize_google(audio))\n",
    "                    f.write('\\n \\n \\n')\n",
    "        except:\n",
    "            pass\n",
    "\n",
    "f.close()"
   ]
  },
  {
   "cell_type": "code",
   "execution_count": null,
   "id": "384e3c88",
   "metadata": {},
   "outputs": [],
   "source": []
  }
 ],
 "metadata": {
  "kernelspec": {
   "display_name": "Python 3 (ipykernel)",
   "language": "python",
   "name": "python3"
  },
  "language_info": {
   "codemirror_mode": {
    "name": "ipython",
    "version": 3
   },
   "file_extension": ".py",
   "mimetype": "text/x-python",
   "name": "python",
   "nbconvert_exporter": "python",
   "pygments_lexer": "ipython3",
   "version": "3.7.1"
  }
 },
 "nbformat": 4,
 "nbformat_minor": 5
}
