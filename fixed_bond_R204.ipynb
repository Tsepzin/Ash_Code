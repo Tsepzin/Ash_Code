{
 "cells": [
  {
   "cell_type": "code",
   "execution_count": 312,
   "id": "ef581523",
   "metadata": {},
   "outputs": [],
   "source": [
    "import QuantLib as ql\n",
    "import pandas as pd"
   ]
  },
  {
   "cell_type": "code",
   "execution_count": 313,
   "id": "dfe05b95",
   "metadata": {},
   "outputs": [],
   "source": [
    "calc_date = ql.Date(12, 4, 2017)\n",
    "ql.Settings.instance().evaluationDate = calc_date\n",
    "ytm = ql.SimpleQuote(0.07431916541307615)\n",
    "dates = [ql.Date(12,4,2017), ql.Date(12,4,2018), ql.Date(12,4,2019)]\n",
    "zeros = [0.07431916541307615,0.07431916541307615,0.07431916541307615]\n",
    "# spot_curve = ql.ZeroCurve(dates, zeros, ql.ActualActual(), ql.TARGET(), ql.Linear(), ql.Semiannual)\n",
    "spot_curve = ql.FlatForward(calc_date, ql.QuoteHandle(ytm), ql.Actual365Fixed())\n",
    "spot_curve_handle = ql.YieldTermStructureHandle(spot_curve)\n",
    "\n",
    "issue_date = ql.Date(21, 12, 2016)\n",
    "maturity_date = ql.Date(21, 12, 2018)\n",
    "tenor = ql.Period(ql.Semiannual)\n",
    "calendar = ql.SouthAfrica()\n",
    "business_convention = ql.Following\n",
    "date_generation = ql.DateGeneration.Backward\n",
    "month_end = False\n",
    "schedule = ql.Schedule(issue_date, maturity_date, tenor,\n",
    "    calendar, business_convention,\n",
    "    business_convention, date_generation,\n",
    "    month_end)"
   ]
  },
  {
   "cell_type": "code",
   "execution_count": 314,
   "id": "fb52cc1b",
   "metadata": {},
   "outputs": [],
   "source": [
    "coupon_rate = .08\n",
    "coupons = [coupon_rate]\n",
    "settlement_days = 0\n",
    "face_value = 100\n",
    "day_count = ql.Actual365Fixed()\n",
    "#day_count = ql.SimpleDayCounter()\n",
    "fixed_rate_bond = ql.FixedRateBond(settlement_days,\n",
    "    face_value,\n",
    "    schedule,\n",
    "    coupons,\n",
    "    day_count)"
   ]
  },
  {
   "cell_type": "code",
   "execution_count": 315,
   "id": "68d7bf59",
   "metadata": {},
   "outputs": [],
   "source": [
    "bond_engine = ql.DiscountingBondEngine(spot_curve_handle)\n",
    "fixed_rate_bond.setPricingEngine(bond_engine)"
   ]
  },
  {
   "cell_type": "code",
   "execution_count": 316,
   "id": "3e45889d",
   "metadata": {},
   "outputs": [
    {
     "data": {
      "text/plain": [
       "103.10594581468344"
      ]
     },
     "execution_count": 316,
     "metadata": {},
     "output_type": "execute_result"
    }
   ],
   "source": [
    "p = fixed_rate_bond.NPV()\n",
    "p"
   ]
  },
  {
   "cell_type": "code",
   "execution_count": 317,
   "id": "74c83d7a",
   "metadata": {},
   "outputs": [
    {
     "data": {
      "text/plain": [
       "2.4547945205479538"
      ]
     },
     "execution_count": 317,
     "metadata": {},
     "output_type": "execute_result"
    }
   ],
   "source": [
    "fixed_rate_bond.accruedAmount()"
   ]
  },
  {
   "cell_type": "code",
   "execution_count": 318,
   "id": "e6b15307",
   "metadata": {},
   "outputs": [
    {
     "data": {
      "text/plain": [
       "100.65115129413549"
      ]
     },
     "execution_count": 318,
     "metadata": {},
     "output_type": "execute_result"
    }
   ],
   "source": [
    "fixed_rate_bond.cleanPrice()"
   ]
  },
  {
   "cell_type": "code",
   "execution_count": 319,
   "id": "229cdb91",
   "metadata": {},
   "outputs": [
    {
     "data": {
      "text/plain": [
       "103.10594581468344"
      ]
     },
     "execution_count": 319,
     "metadata": {},
     "output_type": "execute_result"
    }
   ],
   "source": [
    "fixed_rate_bond.dirtyPrice()"
   ]
  },
  {
   "cell_type": "code",
   "execution_count": 320,
   "id": "c5fa4277",
   "metadata": {},
   "outputs": [
    {
     "data": {
      "text/plain": [
       "-0.00887763801475927"
      ]
     },
     "execution_count": 320,
     "metadata": {},
     "output_type": "execute_result"
    }
   ],
   "source": [
    "price_check = (fixed_rate_bond.NPV()/103.11510-1)*100\n",
    "price_check"
   ]
  },
  {
   "cell_type": "code",
   "execution_count": 321,
   "id": "4df232a6",
   "metadata": {},
   "outputs": [
    {
     "data": {
      "text/html": [
       "<div>\n",
       "<style scoped>\n",
       "    .dataframe tbody tr th:only-of-type {\n",
       "        vertical-align: middle;\n",
       "    }\n",
       "\n",
       "    .dataframe tbody tr th {\n",
       "        vertical-align: top;\n",
       "    }\n",
       "\n",
       "    .dataframe thead th {\n",
       "        text-align: right;\n",
       "    }\n",
       "</style>\n",
       "<table border=\"1\" class=\"dataframe\">\n",
       "  <thead>\n",
       "    <tr style=\"text-align: right;\">\n",
       "      <th></th>\n",
       "      <th>date</th>\n",
       "      <th>amount</th>\n",
       "    </tr>\n",
       "  </thead>\n",
       "  <tbody>\n",
       "    <tr>\n",
       "      <th></th>\n",
       "      <td>June 21st, 2017</td>\n",
       "      <td>3.989041</td>\n",
       "    </tr>\n",
       "    <tr>\n",
       "      <th></th>\n",
       "      <td>December 21st, 2017</td>\n",
       "      <td>4.010959</td>\n",
       "    </tr>\n",
       "    <tr>\n",
       "      <th></th>\n",
       "      <td>June 21st, 2018</td>\n",
       "      <td>3.989041</td>\n",
       "    </tr>\n",
       "    <tr>\n",
       "      <th></th>\n",
       "      <td>December 21st, 2018</td>\n",
       "      <td>4.010959</td>\n",
       "    </tr>\n",
       "    <tr>\n",
       "      <th></th>\n",
       "      <td>December 21st, 2018</td>\n",
       "      <td>100.000000</td>\n",
       "    </tr>\n",
       "  </tbody>\n",
       "</table>\n",
       "</div>"
      ],
      "text/plain": [
       "                 date      amount\n",
       "      June 21st, 2017    3.989041\n",
       "  December 21st, 2017    4.010959\n",
       "      June 21st, 2018    3.989041\n",
       "  December 21st, 2018    4.010959\n",
       "  December 21st, 2018  100.000000"
      ]
     },
     "execution_count": 321,
     "metadata": {},
     "output_type": "execute_result"
    }
   ],
   "source": [
    "pd.DataFrame([ (c.date(), c.amount())\n",
    "    for c in fixed_rate_bond.cashflows() ],\n",
    "    columns = ('date', 'amount'),\n",
    "    index=['']*len(fixed_rate_bond.cashflows()))"
   ]
  },
  {
   "cell_type": "code",
   "execution_count": 322,
   "id": "4fdc7970",
   "metadata": {},
   "outputs": [],
   "source": [
    "spread = 0.07431916541307615-0.01\n",
    "ytm.setValue(spread)\n",
    "pu = fixed_rate_bond.NPV()\n",
    "\n",
    "spread = 0.07431916541307615+0.01\n",
    "ytm.setValue(spread)\n",
    "pd = fixed_rate_bond.NPV()"
   ]
  },
  {
   "cell_type": "code",
   "execution_count": 323,
   "id": "2fe0ff70",
   "metadata": {},
   "outputs": [
    {
     "data": {
      "text/plain": [
       "1.5812584476414542"
      ]
     },
     "execution_count": 323,
     "metadata": {},
     "output_type": "execute_result"
    }
   ],
   "source": [
    "mac_duration = (pu-pd)/(2*p*0.01)\n",
    "mac_duration"
   ]
  },
  {
   "cell_type": "code",
   "execution_count": null,
   "id": "309c9b49",
   "metadata": {},
   "outputs": [],
   "source": []
  },
  {
   "cell_type": "code",
   "execution_count": null,
   "id": "4761e455",
   "metadata": {},
   "outputs": [],
   "source": []
  },
  {
   "cell_type": "code",
   "execution_count": null,
   "id": "057caa17",
   "metadata": {},
   "outputs": [],
   "source": []
  },
  {
   "cell_type": "code",
   "execution_count": null,
   "id": "e0a091a3",
   "metadata": {},
   "outputs": [],
   "source": []
  },
  {
   "cell_type": "code",
   "execution_count": null,
   "id": "8ece3dc7",
   "metadata": {},
   "outputs": [],
   "source": []
  },
  {
   "cell_type": "code",
   "execution_count": null,
   "id": "bacf53c1",
   "metadata": {},
   "outputs": [],
   "source": []
  },
  {
   "cell_type": "code",
   "execution_count": null,
   "id": "cdf23e1f",
   "metadata": {},
   "outputs": [],
   "source": []
  },
  {
   "cell_type": "code",
   "execution_count": null,
   "id": "7d1cc35c",
   "metadata": {},
   "outputs": [],
   "source": []
  }
 ],
 "metadata": {
  "kernelspec": {
   "display_name": "Python 3 (ipykernel)",
   "language": "python",
   "name": "python3"
  },
  "language_info": {
   "codemirror_mode": {
    "name": "ipython",
    "version": 3
   },
   "file_extension": ".py",
   "mimetype": "text/x-python",
   "name": "python",
   "nbconvert_exporter": "python",
   "pygments_lexer": "ipython3",
   "version": "3.7.1"
  }
 },
 "nbformat": 4,
 "nbformat_minor": 5
}
