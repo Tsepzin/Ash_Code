{
 "cells": [
  {
   "cell_type": "code",
   "execution_count": 27,
   "id": "36d67074",
   "metadata": {},
   "outputs": [],
   "source": [
    "import QuantLib as ql\n",
    "import pandas as pd"
   ]
  },
  {
   "cell_type": "code",
   "execution_count": 28,
   "id": "5e6cb218",
   "metadata": {},
   "outputs": [],
   "source": [
    "#today = ql.Date().todaysDate()\n",
    "today = ql.Date(12,4,2017)\n",
    "ql.Settings.instance().evaluationDate = today"
   ]
  },
  {
   "cell_type": "markdown",
   "id": "7e169bc9",
   "metadata": {},
   "source": [
    "#### Cashflows"
   ]
  },
  {
   "cell_type": "code",
   "execution_count": 29,
   "id": "eacad85b",
   "metadata": {},
   "outputs": [
    {
     "data": {
      "text/html": [
       "<div>\n",
       "<style scoped>\n",
       "    .dataframe tbody tr th:only-of-type {\n",
       "        vertical-align: middle;\n",
       "    }\n",
       "\n",
       "    .dataframe tbody tr th {\n",
       "        vertical-align: top;\n",
       "    }\n",
       "\n",
       "    .dataframe thead th {\n",
       "        text-align: right;\n",
       "    }\n",
       "</style>\n",
       "<table border=\"1\" class=\"dataframe\">\n",
       "  <thead>\n",
       "    <tr style=\"text-align: right;\">\n",
       "      <th></th>\n",
       "      <th>Date</th>\n",
       "      <th>RealCF</th>\n",
       "      <th>simple_cf</th>\n",
       "    </tr>\n",
       "  </thead>\n",
       "  <tbody>\n",
       "    <tr>\n",
       "      <th>0</th>\n",
       "      <td>June 21st, 2017</td>\n",
       "      <td>3.988382</td>\n",
       "      <td>&lt;QuantLib.QuantLib.SimpleCashFlow; proxy of &lt;S...</td>\n",
       "    </tr>\n",
       "    <tr>\n",
       "      <th>1</th>\n",
       "      <td>December 21st, 2017</td>\n",
       "      <td>4.010959</td>\n",
       "      <td>&lt;QuantLib.QuantLib.SimpleCashFlow; proxy of &lt;S...</td>\n",
       "    </tr>\n",
       "    <tr>\n",
       "      <th>2</th>\n",
       "      <td>June 21st, 2018</td>\n",
       "      <td>3.989041</td>\n",
       "      <td>&lt;QuantLib.QuantLib.SimpleCashFlow; proxy of &lt;S...</td>\n",
       "    </tr>\n",
       "    <tr>\n",
       "      <th>3</th>\n",
       "      <td>December 21st, 2018</td>\n",
       "      <td>104.010959</td>\n",
       "      <td>&lt;QuantLib.QuantLib.SimpleCashFlow; proxy of &lt;S...</td>\n",
       "    </tr>\n",
       "  </tbody>\n",
       "</table>\n",
       "</div>"
      ],
      "text/plain": [
       "                  Date      RealCF  \\\n",
       "0      June 21st, 2017    3.988382   \n",
       "1  December 21st, 2017    4.010959   \n",
       "2      June 21st, 2018    3.989041   \n",
       "3  December 21st, 2018  104.010959   \n",
       "\n",
       "                                           simple_cf  \n",
       "0  <QuantLib.QuantLib.SimpleCashFlow; proxy of <S...  \n",
       "1  <QuantLib.QuantLib.SimpleCashFlow; proxy of <S...  \n",
       "2  <QuantLib.QuantLib.SimpleCashFlow; proxy of <S...  \n",
       "3  <QuantLib.QuantLib.SimpleCashFlow; proxy of <S...  "
      ]
     },
     "execution_count": 29,
     "metadata": {},
     "output_type": "execute_result"
    }
   ],
   "source": [
    "cf = pd.read_excel('cashflows.xlsx')\n",
    "cf['Date'] = cf['Date'].apply(lambda x: ql.Date(x.strftime('%Y-%m-%d'), '%Y-%m-%d'))\n",
    "cf['simple_cf'] = cf.apply(lambda x: ql.SimpleCashFlow(x['RealCF'], x['Date']), axis=1)\n",
    "leg = ql.Leg(list(cf['simple_cf']))\n",
    "cf"
   ]
  },
  {
   "cell_type": "markdown",
   "id": "57e4ff66",
   "metadata": {},
   "source": [
    "#### Curve"
   ]
  },
  {
   "cell_type": "code",
   "execution_count": 30,
   "id": "4dcc75ac",
   "metadata": {},
   "outputs": [],
   "source": [
    "my_curve = pd.read_excel('yield_curve.xlsx')\n",
    "tenor = list(my_curve['Tenor'].apply(lambda x: ql.Date(x.strftime('%Y-%m-%d'), '%Y-%m-%d')))\n",
    "zeros = list(my_curve['Yield'])\n",
    "zero_curve = ql.ZeroCurve(tenor, zeros, ql.Actual365Fixed(), ql.TARGET(), ql.Linear(), ql.Semiannual)\n",
    "zero_curve_handle = ql.YieldTermStructureHandle(zero_curve)\n",
    "#my_curve"
   ]
  },
  {
   "cell_type": "markdown",
   "id": "0fd9858d",
   "metadata": {},
   "source": [
    "#### NPV"
   ]
  },
  {
   "cell_type": "code",
   "execution_count": 31,
   "id": "67a77d6d",
   "metadata": {},
   "outputs": [
    {
     "data": {
      "text/plain": [
       "103.1052961341164"
      ]
     },
     "execution_count": 31,
     "metadata": {},
     "output_type": "execute_result"
    }
   ],
   "source": [
    "npv = ql.CashFlows.npv(leg, zero_curve_handle, True, today)\n",
    "npv"
   ]
  },
  {
   "cell_type": "markdown",
   "id": "c4f5f2a3",
   "metadata": {},
   "source": [
    "#### YTM"
   ]
  },
  {
   "cell_type": "code",
   "execution_count": 32,
   "id": "653f9774",
   "metadata": {},
   "outputs": [
    {
     "data": {
      "text/plain": [
       "0.07715053982026873"
      ]
     },
     "execution_count": 32,
     "metadata": {},
     "output_type": "execute_result"
    }
   ],
   "source": [
    "ytm = ql.CashFlows.yieldRate(leg, npv, ql.ActualActual(), ql.Compounded, ql.Annual, True, today)\n",
    "ytm"
   ]
  },
  {
   "cell_type": "markdown",
   "id": "cc17ff85",
   "metadata": {},
   "source": [
    "#### Modified Duration"
   ]
  },
  {
   "cell_type": "code",
   "execution_count": 33,
   "id": "27cc9af1",
   "metadata": {},
   "outputs": [
    {
     "data": {
      "text/plain": [
       "1.467941552037983"
      ]
     },
     "execution_count": 33,
     "metadata": {},
     "output_type": "execute_result"
    }
   ],
   "source": [
    "modified_duration = ql.CashFlows.duration(leg, ytm, ql.ActualActual(), ql.Compounded, ql.Annual, ql.Duration.Modified, True, today)\n",
    "modified_duration"
   ]
  },
  {
   "cell_type": "markdown",
   "id": "a8a5deaa",
   "metadata": {},
   "source": [
    "#### Convexity"
   ]
  },
  {
   "cell_type": "code",
   "execution_count": 34,
   "id": "e945f055",
   "metadata": {},
   "outputs": [
    {
     "data": {
      "text/plain": [
       "3.620454794239221"
      ]
     },
     "execution_count": 34,
     "metadata": {},
     "output_type": "execute_result"
    }
   ],
   "source": [
    "convexity = ql.CashFlows.convexity(leg, ytm, ql.ActualActual(), ql.Compounded, ql.Annual, True, today)\n",
    "convexity"
   ]
  },
  {
   "cell_type": "markdown",
   "id": "cd1a2be7",
   "metadata": {},
   "source": [
    "#### PV01"
   ]
  },
  {
   "cell_type": "code",
   "execution_count": 35,
   "id": "514da5cb",
   "metadata": {},
   "outputs": [
    {
     "data": {
      "text/plain": [
       "0.0"
      ]
     },
     "execution_count": 35,
     "metadata": {},
     "output_type": "execute_result"
    }
   ],
   "source": [
    "PV01 = ql.CashFlows.bps(leg, ytm, ql.ActualActual(), ql.Compounded, ql.Annual, True, today)\n",
    "PV01"
   ]
  },
  {
   "cell_type": "markdown",
   "id": "03ec68ee",
   "metadata": {},
   "source": [
    "#### RPP"
   ]
  },
  {
   "cell_type": "code",
   "execution_count": 36,
   "id": "c29322db",
   "metadata": {},
   "outputs": [
    {
     "data": {
      "text/plain": [
       "151.35236178996672"
      ]
     },
     "execution_count": 36,
     "metadata": {},
     "output_type": "execute_result"
    }
   ],
   "source": [
    "RPP = -ql.CashFlows.basisPointValue(leg, ytm, ql.ActualActual(), ql.Compounded, ql.Annual, True, today)*10000\n",
    "RPP"
   ]
  },
  {
   "cell_type": "code",
   "execution_count": null,
   "id": "570132f2",
   "metadata": {},
   "outputs": [],
   "source": []
  }
 ],
 "metadata": {
  "kernelspec": {
   "display_name": "Python 3 (ipykernel)",
   "language": "python",
   "name": "python3"
  },
  "language_info": {
   "codemirror_mode": {
    "name": "ipython",
    "version": 3
   },
   "file_extension": ".py",
   "mimetype": "text/x-python",
   "name": "python",
   "nbconvert_exporter": "python",
   "pygments_lexer": "ipython3",
   "version": "3.7.1"
  }
 },
 "nbformat": 4,
 "nbformat_minor": 5
}
